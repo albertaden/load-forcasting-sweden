{
 "cells": [
  {
   "cell_type": "code",
   "execution_count": 1,
   "id": "ef6c4a26",
   "metadata": {},
   "outputs": [],
   "source": [
    "import pandas as pd"
   ]
  },
  {
   "cell_type": "code",
   "execution_count": 2,
   "id": "e14a8818",
   "metadata": {},
   "outputs": [
    {
     "name": "stdout",
     "output_type": "stream",
     "text": [
      "<class 'pandas.core.frame.DataFrame'>\n",
      "RangeIndex: 468475 entries, 0 to 468474\n",
      "Data columns (total 3 columns):\n",
      " #   Column   Non-Null Count   Dtype              \n",
      "---  ------   --------------   -----              \n",
      " 0   date     468475 non-null  datetime64[ns, UTC]\n",
      " 1   load_mw  468475 non-null  float64            \n",
      " 2   zone     468475 non-null  object             \n",
      "dtypes: datetime64[ns, UTC](1), float64(1), object(1)\n",
      "memory usage: 10.7+ MB\n",
      "None\n",
      "468475 rows\n"
     ]
    }
   ],
   "source": [
    "df = pd.read_parquet(\"C:/Users/alber/Desktop/Side_projects/load-forcasting-sweden/data/load_se_zones.parquet\")\n",
    "\n",
    "print(df.info())         \n",
    "print(len(df), \"rows\")   "
   ]
  },
  {
   "cell_type": "code",
   "execution_count": 3,
   "id": "47001168",
   "metadata": {},
   "outputs": [
    {
     "name": "stdout",
     "output_type": "stream",
     "text": [
      "                       date  load_mw zone\n",
      "0 2014-12-31 23:00:00+00:00    966.0  SE1\n",
      "1 2015-01-01 00:00:00+00:00   1120.0  SE1\n",
      "2 2015-01-01 01:00:00+00:00   1092.0  SE1\n",
      "3 2015-01-01 02:00:00+00:00   1059.0  SE1\n",
      "4 2015-01-01 03:00:00+00:00   1019.0  SE1\n",
      "                            date  load_mw      zone\n",
      "468470 2025-09-10 17:00:00+00:00  14142.0  SE_total\n",
      "468471 2025-09-10 18:00:00+00:00  13724.0  SE_total\n",
      "468472 2025-09-10 19:00:00+00:00  13300.0  SE_total\n",
      "468473 2025-09-10 20:00:00+00:00  12637.0  SE_total\n",
      "468474 2025-09-10 21:00:00+00:00  12020.0  SE_total\n",
      "             load_mw\n",
      "count  468475.000000\n",
      "mean     6148.090434\n",
      "std      5834.408799\n",
      "min         0.000000\n",
      "25%      1552.000000\n",
      "50%      2653.000000\n",
      "75%     10745.500000\n",
      "max     26714.000000\n"
     ]
    }
   ],
   "source": [
    "print(df.head())         \n",
    "print(df.tail())\n",
    "print(df.describe())\n",
    "\n",
    "# HEAD UP: The time is stored as UTC, convert to local time"
   ]
  },
  {
   "cell_type": "code",
   "execution_count": null,
   "id": "70356a30",
   "metadata": {},
   "outputs": [],
   "source": []
  }
 ],
 "metadata": {
  "kernelspec": {
   "display_name": "venv",
   "language": "python",
   "name": "python3"
  },
  "language_info": {
   "codemirror_mode": {
    "name": "ipython",
    "version": 3
   },
   "file_extension": ".py",
   "mimetype": "text/x-python",
   "name": "python",
   "nbconvert_exporter": "python",
   "pygments_lexer": "ipython3",
   "version": "3.12.5"
  }
 },
 "nbformat": 4,
 "nbformat_minor": 5
}
