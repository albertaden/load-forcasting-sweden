{
 "cells": [
  {
   "cell_type": "code",
   "execution_count": 10,
   "id": "ef6c4a26",
   "metadata": {},
   "outputs": [],
   "source": [
    "import pandas as pd"
   ]
  },
  {
   "cell_type": "code",
   "execution_count": 11,
   "id": "e14a8818",
   "metadata": {},
   "outputs": [
    {
     "name": "stdout",
     "output_type": "stream",
     "text": [
      "<class 'pandas.core.frame.DataFrame'>\n",
      "RangeIndex: 93682 entries, 0 to 93681\n",
      "Data columns (total 2 columns):\n",
      " #   Column   Non-Null Count  Dtype              \n",
      "---  ------   --------------  -----              \n",
      " 0   date     93682 non-null  datetime64[ns, UTC]\n",
      " 1   load_mw  93682 non-null  float64            \n",
      "dtypes: datetime64[ns, UTC](1), float64(1)\n",
      "memory usage: 1.4 MB\n",
      "None\n",
      "93682 rows\n"
     ]
    }
   ],
   "source": [
    "df = pd.read_parquet(\"C:/Users/alber/Desktop/Side_projects/load-forcasting-sweden/data/load_se.parquet\")\n",
    "\n",
    "print(df.info())         \n",
    "print(len(df), \"rows\")   "
   ]
  },
  {
   "cell_type": "code",
   "execution_count": null,
   "id": "47001168",
   "metadata": {},
   "outputs": [
    {
     "name": "stdout",
     "output_type": "stream",
     "text": [
      "                       date  load_mw\n",
      "0 2014-12-31 23:00:00+00:00  14706.0\n",
      "1 2015-01-01 00:00:00+00:00  14726.0\n",
      "2 2015-01-01 01:00:00+00:00  14485.0\n",
      "3 2015-01-01 02:00:00+00:00  14298.0\n",
      "4 2015-01-01 03:00:00+00:00  14249.0\n",
      "                           date  load_mw\n",
      "93677 2025-09-10 04:00:00+00:00  12503.0\n",
      "93678 2025-09-10 05:00:00+00:00  13208.0\n",
      "93679 2025-09-10 06:00:00+00:00  13794.0\n",
      "93680 2025-09-10 07:00:00+00:00  14129.0\n",
      "93681 2025-09-10 08:00:00+00:00  14353.0\n",
      "            load_mw\n",
      "count  93682.000000\n",
      "mean   15370.152196\n",
      "std     3329.600939\n",
      "min     5065.000000\n",
      "25%    12756.000000\n",
      "50%    14984.000000\n",
      "75%    17748.000000\n",
      "max    26714.000000\n"
     ]
    }
   ],
   "source": [
    "print(df.head())         \n",
    "print(df.tail())\n",
    "print(df.describe())\n",
    "\n",
    "# HEAD UP: The time is stored as UTC, convert to local time"
   ]
  },
  {
   "cell_type": "code",
   "execution_count": null,
   "id": "70356a30",
   "metadata": {},
   "outputs": [],
   "source": []
  }
 ],
 "metadata": {
  "kernelspec": {
   "display_name": "venv",
   "language": "python",
   "name": "python3"
  },
  "language_info": {
   "codemirror_mode": {
    "name": "ipython",
    "version": 3
   },
   "file_extension": ".py",
   "mimetype": "text/x-python",
   "name": "python",
   "nbconvert_exporter": "python",
   "pygments_lexer": "ipython3",
   "version": "3.12.5"
  }
 },
 "nbformat": 4,
 "nbformat_minor": 5
}
