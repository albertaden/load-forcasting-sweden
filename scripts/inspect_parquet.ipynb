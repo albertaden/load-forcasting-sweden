{
 "cells": [
  {
   "cell_type": "code",
   "execution_count": 1,
   "id": "ef6c4a26",
   "metadata": {},
   "outputs": [],
   "source": [
    "import pandas as pd"
   ]
  },
  {
   "cell_type": "code",
   "execution_count": 2,
   "id": "e14a8818",
   "metadata": {},
   "outputs": [
    {
     "name": "stdout",
     "output_type": "stream",
     "text": [
      "<class 'pandas.core.frame.DataFrame'>\n",
      "RangeIndex: 93660 entries, 0 to 93659\n",
      "Data columns (total 2 columns):\n",
      " #   Column   Non-Null Count  Dtype              \n",
      "---  ------   --------------  -----              \n",
      " 0   date     93660 non-null  datetime64[ns, UTC]\n",
      " 1   load_mw  93660 non-null  float64            \n",
      "dtypes: datetime64[ns, UTC](1), float64(1)\n",
      "memory usage: 1.4 MB\n",
      "None\n",
      "93660 rows\n"
     ]
    }
   ],
   "source": [
    "df = pd.read_parquet(\"C:/Users/alber/Desktop/Side_projects/load-forcasting-sweden/data/load_SE.parquet\")\n",
    "\n",
    "print(df.info())         \n",
    "print(len(df), \"rows\")   "
   ]
  },
  {
   "cell_type": "code",
   "execution_count": 3,
   "id": "47001168",
   "metadata": {},
   "outputs": [
    {
     "name": "stdout",
     "output_type": "stream",
     "text": [
      "                       date  load_mw\n",
      "0 2014-12-31 23:00:00+00:00  14706.0\n",
      "1 2015-01-01 00:00:00+00:00  14726.0\n",
      "2 2015-01-01 01:00:00+00:00  14485.0\n",
      "3 2015-01-01 02:00:00+00:00  14298.0\n",
      "4 2015-01-01 03:00:00+00:00  14249.0\n",
      "                           date  load_mw\n",
      "93655 2025-09-09 06:00:00+00:00  13803.0\n",
      "93656 2025-09-09 07:00:00+00:00  14097.0\n",
      "93657 2025-09-09 08:00:00+00:00  13985.0\n",
      "93658 2025-09-09 09:00:00+00:00  14251.0\n",
      "93659 2025-09-09 10:00:00+00:00  14750.0\n",
      "            load_mw\n",
      "count  93660.000000\n",
      "mean   15370.738992\n",
      "std     3329.718761\n",
      "min     5065.000000\n",
      "25%    12756.000000\n",
      "50%    14985.000000\n",
      "75%    17749.000000\n",
      "max    26714.000000\n"
     ]
    }
   ],
   "source": [
    "print(df.head())         \n",
    "print(df.tail())\n",
    "print(df.describe())"
   ]
  },
  {
   "cell_type": "code",
   "execution_count": null,
   "id": "70356a30",
   "metadata": {},
   "outputs": [],
   "source": []
  }
 ],
 "metadata": {
  "kernelspec": {
   "display_name": "venv",
   "language": "python",
   "name": "python3"
  },
  "language_info": {
   "codemirror_mode": {
    "name": "ipython",
    "version": 3
   },
   "file_extension": ".py",
   "mimetype": "text/x-python",
   "name": "python",
   "nbconvert_exporter": "python",
   "pygments_lexer": "ipython3",
   "version": "3.12.5"
  }
 },
 "nbformat": 4,
 "nbformat_minor": 5
}
