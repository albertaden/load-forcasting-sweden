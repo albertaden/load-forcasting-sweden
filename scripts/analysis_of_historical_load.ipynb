{
 "cells": [
  {
   "cell_type": "code",
   "execution_count": 62,
   "id": "6f404e45",
   "metadata": {},
   "outputs": [
    {
     "name": "stdout",
     "output_type": "stream",
     "text": [
      "                            date  load_mw      zone\n",
      "468655 2025-09-12 07:00:00+00:00  14316.0  SE_total\n",
      "468656 2025-09-12 08:00:00+00:00  14434.0  SE_total\n",
      "468657 2025-09-12 09:00:00+00:00  14265.0  SE_total\n",
      "468658 2025-09-12 10:00:00+00:00  13767.0  SE_total\n",
      "468659 2025-09-12 11:00:00+00:00  13726.0  SE_total\n"
     ]
    }
   ],
   "source": [
    "import pandas as pd\n",
    "\n",
    "df = pd.read_parquet(\"C:/Users/alber/Desktop/Side_projects/load-forcasting-sweden/data/load_se_zones.parquet\")\n",
    "\n",
    "\n",
    "# Before:\n",
    "# Parquet: 2025-09-12 10:00 = ENTSO: 2025-09-12 12:00-13:00\n",
    "\n",
    "# Add 1 hour to the datetime column\n",
    "df[\"date\"] = df[\"date\"] + pd.Timedelta(hours=1)\n",
    "\n",
    "# Now: (+2h from UTC to CEST)\n",
    "# Parquet: 2025-09-12 11:00 = ENTSO: 2025-09-12 12:00-13:00\n",
    "\n",
    "# Verify the result\n",
    "print(df.tail())"
   ]
  },
  {
   "cell_type": "code",
   "execution_count": 63,
   "id": "5f11f13f",
   "metadata": {},
   "outputs": [],
   "source": [
    "SE1_load = df[df[\"zone\"] == \"SE1\"]\n",
    "SE2_load = df[df[\"zone\"] == \"SE2\"]\n",
    "SE3_load = df[df[\"zone\"] == \"SE3\"]\n",
    "SE4_load = df[df[\"zone\"] == \"SE4\"]\n",
    "SE_total_load = df[df[\"zone\"] == \"SE_total\"]"
   ]
  },
  {
   "cell_type": "code",
   "execution_count": 64,
   "id": "1f2b9d91",
   "metadata": {},
   "outputs": [],
   "source": [
    "# Count all years in the dataset\n",
    "all_years = df[\"date\"].dt.year.unique()\n",
    "\n",
    "# Drop the last year as it is incomplete\n",
    "#all_years = all_years[0:-1]"
   ]
  },
  {
   "cell_type": "code",
   "execution_count": 65,
   "id": "40c50c9c",
   "metadata": {},
   "outputs": [
    {
     "name": "stdout",
     "output_type": "stream",
     "text": [
      "Year: 2015, Peak Load: 23741.0 MW, Date: 2015-02-03 17:00:00+00:00, Zone: SE_total\n",
      "Year: 2016, Peak Load: 26714.0 MW, Date: 2016-01-15 08:00:00+00:00, Zone: SE_total\n",
      "Year: 2017, Peak Load: 26618.0 MW, Date: 2017-01-05 17:00:00+00:00, Zone: SE_total\n",
      "Year: 2018, Peak Load: 26558.0 MW, Date: 2018-02-28 08:00:00+00:00, Zone: SE_total\n",
      "Year: 2019, Peak Load: 25103.0 MW, Date: 2019-01-30 08:00:00+00:00, Zone: SE_total\n",
      "Year: 2020, Peak Load: 22513.0 MW, Date: 2020-02-04 08:00:00+00:00, Zone: SE_total\n",
      "Year: 2021, Peak Load: 25657.0 MW, Date: 2021-02-10 08:00:00+00:00, Zone: SE_total\n",
      "Year: 2022, Peak Load: 24250.0 MW, Date: 2022-12-16 09:00:00+00:00, Zone: SE_total\n",
      "Year: 2023, Peak Load: 24332.0 MW, Date: 2023-12-06 17:00:00+00:00, Zone: SE_total\n",
      "Year: 2024, Peak Load: 25756.0 MW, Date: 2024-01-16 09:00:00+00:00, Zone: SE_total\n",
      "Year: 2025, Peak Load: 23187.0 MW, Date: 2025-01-13 09:00:00+00:00, Zone: SE_total\n"
     ]
    }
   ],
   "source": [
    "# For each year, find the peak load and the corresponding date and zone\n",
    "# Example output:\n",
    "# Year: 2024, Peak Load: 25756.0 MW, Date: 2024-01-16 09:00:00+00:00\n",
    "# This mean the highest average load was measured between 09:00 and 09:59 on Jan 16, 2024\n",
    "\n",
    "for year in all_years:\n",
    "    yearly_data = df[df[\"date\"].dt.year == year]\n",
    "    max_load = yearly_data.sort_values(by=\"load_mw\", ascending=False).iloc[0]\n",
    "    print(f\"Year: {year}, Peak Load: {max_load['load_mw']} MW, Date: {max_load['date']}, Zone: {max_load['zone']}\")"
   ]
  },
  {
   "cell_type": "code",
   "execution_count": 66,
   "id": "b891d3ee",
   "metadata": {},
   "outputs": [],
   "source": [
    "test2 = df[df[\"date\"] == \"2015-09-12 11:00:00\"]"
   ]
  },
  {
   "cell_type": "code",
   "execution_count": null,
   "id": "c12bac91",
   "metadata": {},
   "outputs": [],
   "source": []
  },
  {
   "cell_type": "code",
   "execution_count": null,
   "id": "bbae5584",
   "metadata": {},
   "outputs": [],
   "source": []
  }
 ],
 "metadata": {
  "kernelspec": {
   "display_name": "venv",
   "language": "python",
   "name": "python3"
  },
  "language_info": {
   "codemirror_mode": {
    "name": "ipython",
    "version": 3
   },
   "file_extension": ".py",
   "mimetype": "text/x-python",
   "name": "python",
   "nbconvert_exporter": "python",
   "pygments_lexer": "ipython3",
   "version": "3.12.5"
  }
 },
 "nbformat": 4,
 "nbformat_minor": 5
}
